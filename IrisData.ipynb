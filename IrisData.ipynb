{
  "nbformat": 4,
  "nbformat_minor": 0,
  "metadata": {
    "colab": {
      "provenance": [],
      "authorship_tag": "ABX9TyP9HbhHi1kENejMHPRUzH0Y"
    },
    "kernelspec": {
      "name": "python3",
      "display_name": "Python 3"
    },
    "language_info": {
      "name": "python"
    }
  },
  "cells": [
    {
      "cell_type": "code",
      "execution_count": null,
      "metadata": {
        "colab": {
          "base_uri": "https://localhost:8080/"
        },
        "id": "YtfaBT2gtSs8",
        "outputId": "c9aa1293-4d8c-477d-affd-11204ea5a8ce"
      },
      "outputs": [
        {
          "output_type": "stream",
          "name": "stdout",
          "text": [
            "num_samples, num_features = (150, 4)\n"
          ]
        }
      ],
      "source": [
        "import numpy as np\n",
        "import matplotlib\n",
        "import matplotlib.pyplot as plt\n",
        "%matplotlib inline\n",
        "from sklearn import datasets\n",
        "\n",
        "iris = datasets.load_iris()\n",
        "X = iris.data[:,:4]\n",
        "y = iris.target\n",
        "\n",
        "(num_samples, num_features) = X.shape\n",
        "print(\"num_samples, num_features =\", X.shape)"
      ]
    },
    {
      "cell_type": "code",
      "source": [
        "from sklearn import preprocessing\n",
        "Xs = preprocessing.scale(X)\n",
        "\n",
        "from sklearn.model_selection import train_test_split\n",
        "X_train, X_test, y_train, y_test = train_test_split(Xs, y, test_size=0.5, random_state=10)\n",
        "print(Xs.shape)\n",
        "print(X_train.shape)\n",
        "print(X_test.shape)\n",
        "\n",
        "from sklearn.linear_model import LogisticRegression\n",
        "clf = LogisticRegression(random_state=0)\n",
        "clf.fit(X_train, y_train)"
      ],
      "metadata": {
        "colab": {
          "base_uri": "https://localhost:8080/",
          "height": 126
        },
        "id": "zGh6RqlzvEpq",
        "outputId": "6125701a-07b8-45fa-bc63-7d4c0cdad63c"
      },
      "execution_count": null,
      "outputs": [
        {
          "output_type": "stream",
          "name": "stdout",
          "text": [
            "(150, 4)\n",
            "(75, 4)\n",
            "(75, 4)\n"
          ]
        },
        {
          "output_type": "execute_result",
          "data": {
            "text/plain": [
              "LogisticRegression(random_state=0)"
            ],
            "text/html": [
              "<style>#sk-container-id-2 {color: black;background-color: white;}#sk-container-id-2 pre{padding: 0;}#sk-container-id-2 div.sk-toggleable {background-color: white;}#sk-container-id-2 label.sk-toggleable__label {cursor: pointer;display: block;width: 100%;margin-bottom: 0;padding: 0.3em;box-sizing: border-box;text-align: center;}#sk-container-id-2 label.sk-toggleable__label-arrow:before {content: \"▸\";float: left;margin-right: 0.25em;color: #696969;}#sk-container-id-2 label.sk-toggleable__label-arrow:hover:before {color: black;}#sk-container-id-2 div.sk-estimator:hover label.sk-toggleable__label-arrow:before {color: black;}#sk-container-id-2 div.sk-toggleable__content {max-height: 0;max-width: 0;overflow: hidden;text-align: left;background-color: #f0f8ff;}#sk-container-id-2 div.sk-toggleable__content pre {margin: 0.2em;color: black;border-radius: 0.25em;background-color: #f0f8ff;}#sk-container-id-2 input.sk-toggleable__control:checked~div.sk-toggleable__content {max-height: 200px;max-width: 100%;overflow: auto;}#sk-container-id-2 input.sk-toggleable__control:checked~label.sk-toggleable__label-arrow:before {content: \"▾\";}#sk-container-id-2 div.sk-estimator input.sk-toggleable__control:checked~label.sk-toggleable__label {background-color: #d4ebff;}#sk-container-id-2 div.sk-label input.sk-toggleable__control:checked~label.sk-toggleable__label {background-color: #d4ebff;}#sk-container-id-2 input.sk-hidden--visually {border: 0;clip: rect(1px 1px 1px 1px);clip: rect(1px, 1px, 1px, 1px);height: 1px;margin: -1px;overflow: hidden;padding: 0;position: absolute;width: 1px;}#sk-container-id-2 div.sk-estimator {font-family: monospace;background-color: #f0f8ff;border: 1px dotted black;border-radius: 0.25em;box-sizing: border-box;margin-bottom: 0.5em;}#sk-container-id-2 div.sk-estimator:hover {background-color: #d4ebff;}#sk-container-id-2 div.sk-parallel-item::after {content: \"\";width: 100%;border-bottom: 1px solid gray;flex-grow: 1;}#sk-container-id-2 div.sk-label:hover label.sk-toggleable__label {background-color: #d4ebff;}#sk-container-id-2 div.sk-serial::before {content: \"\";position: absolute;border-left: 1px solid gray;box-sizing: border-box;top: 0;bottom: 0;left: 50%;z-index: 0;}#sk-container-id-2 div.sk-serial {display: flex;flex-direction: column;align-items: center;background-color: white;padding-right: 0.2em;padding-left: 0.2em;position: relative;}#sk-container-id-2 div.sk-item {position: relative;z-index: 1;}#sk-container-id-2 div.sk-parallel {display: flex;align-items: stretch;justify-content: center;background-color: white;position: relative;}#sk-container-id-2 div.sk-item::before, #sk-container-id-2 div.sk-parallel-item::before {content: \"\";position: absolute;border-left: 1px solid gray;box-sizing: border-box;top: 0;bottom: 0;left: 50%;z-index: -1;}#sk-container-id-2 div.sk-parallel-item {display: flex;flex-direction: column;z-index: 1;position: relative;background-color: white;}#sk-container-id-2 div.sk-parallel-item:first-child::after {align-self: flex-end;width: 50%;}#sk-container-id-2 div.sk-parallel-item:last-child::after {align-self: flex-start;width: 50%;}#sk-container-id-2 div.sk-parallel-item:only-child::after {width: 0;}#sk-container-id-2 div.sk-dashed-wrapped {border: 1px dashed gray;margin: 0 0.4em 0.5em 0.4em;box-sizing: border-box;padding-bottom: 0.4em;background-color: white;}#sk-container-id-2 div.sk-label label {font-family: monospace;font-weight: bold;display: inline-block;line-height: 1.2em;}#sk-container-id-2 div.sk-label-container {text-align: center;}#sk-container-id-2 div.sk-container {/* jupyter's `normalize.less` sets `[hidden] { display: none; }` but bootstrap.min.css set `[hidden] { display: none !important; }` so we also need the `!important` here to be able to override the default hidden behavior on the sphinx rendered scikit-learn.org. See: https://github.com/scikit-learn/scikit-learn/issues/21755 */display: inline-block !important;position: relative;}#sk-container-id-2 div.sk-text-repr-fallback {display: none;}</style><div id=\"sk-container-id-2\" class=\"sk-top-container\"><div class=\"sk-text-repr-fallback\"><pre>LogisticRegression(random_state=0)</pre><b>In a Jupyter environment, please rerun this cell to show the HTML representation or trust the notebook. <br />On GitHub, the HTML representation is unable to render, please try loading this page with nbviewer.org.</b></div><div class=\"sk-container\" hidden><div class=\"sk-item\"><div class=\"sk-estimator sk-toggleable\"><input class=\"sk-toggleable__control sk-hidden--visually\" id=\"sk-estimator-id-2\" type=\"checkbox\" checked><label for=\"sk-estimator-id-2\" class=\"sk-toggleable__label sk-toggleable__label-arrow\">LogisticRegression</label><div class=\"sk-toggleable__content\"><pre>LogisticRegression(random_state=0)</pre></div></div></div></div></div>"
            ]
          },
          "metadata": {},
          "execution_count": 10
        }
      ]
    },
    {
      "cell_type": "code",
      "source": [
        "y_pred_train = clf.predict(X_train)\n",
        "y_pred_test = clf.predict(X_test)\n",
        "train_acc = np.mean(y_train == y_pred_train)\n",
        "test_acc = np.mean(y_test == y_pred_test)\n",
        "\n",
        "print(f\"The train accuracy is: {train_acc}\")\n",
        "print(f\"The test accuracy is: {test_acc}\")"
      ],
      "metadata": {
        "colab": {
          "base_uri": "https://localhost:8080/"
        },
        "id": "NryMR56XvIv9",
        "outputId": "c69cc227-5eb8-4b49-84d8-a15c0dabfd63"
      },
      "execution_count": null,
      "outputs": [
        {
          "output_type": "stream",
          "name": "stdout",
          "text": [
            "The train accuracy is: 0.9866666666666667\n",
            "The test accuracy is: 0.96\n",
            "accuracy is much higher with all 4 characteristics than with only 2\n"
          ]
        }
      ]
    },
    {
      "cell_type": "code",
      "source": [
        "yhat_probs_test = clf.predict_proba(X_test)\n",
        "np.set_printoptions(precision=2, suppress=True)\n",
        "\n",
        "print(y_pred_test.shape, yhat_probs_test.shape)\n",
        "print(np.hstack([y_pred_test.reshape(-1,1), yhat_probs_test]))"
      ],
      "metadata": {
        "colab": {
          "base_uri": "https://localhost:8080/"
        },
        "id": "lWt1EP5ivOdC",
        "outputId": "0ec2bfd9-7738-4b0a-aecf-1785206fb04a"
      },
      "execution_count": null,
      "outputs": [
        {
          "output_type": "stream",
          "name": "stdout",
          "text": [
            "(75,) (75, 3)\n",
            "[[1.   0.   0.76 0.24]\n",
            " [2.   0.   0.15 0.85]\n",
            " [0.   0.98 0.02 0.  ]\n",
            " [1.   0.03 0.69 0.27]\n",
            " [0.   0.96 0.04 0.  ]\n",
            " [1.   0.02 0.93 0.05]\n",
            " [2.   0.   0.49 0.5 ]\n",
            " [1.   0.05 0.89 0.06]\n",
            " [0.   0.96 0.04 0.  ]\n",
            " [1.   0.04 0.74 0.22]\n",
            " [1.   0.06 0.61 0.32]\n",
            " [2.   0.   0.17 0.83]\n",
            " [1.   0.01 0.81 0.17]\n",
            " [0.   0.9  0.1  0.  ]\n",
            " [0.   0.99 0.01 0.  ]\n",
            " [2.   0.   0.08 0.92]\n",
            " [1.   0.12 0.57 0.31]\n",
            " [0.   0.95 0.05 0.  ]\n",
            " [0.   0.98 0.02 0.  ]\n",
            " [0.   0.95 0.05 0.  ]\n",
            " [2.   0.   0.05 0.95]\n",
            " [2.   0.   0.05 0.95]\n",
            " [2.   0.   0.32 0.68]\n",
            " [0.   0.97 0.03 0.  ]\n",
            " [1.   0.05 0.71 0.24]\n",
            " [0.   0.96 0.04 0.  ]\n",
            " [1.   0.11 0.78 0.1 ]\n",
            " [1.   0.03 0.8  0.17]\n",
            " [1.   0.   0.66 0.33]\n",
            " [2.   0.   0.02 0.98]\n",
            " [1.   0.01 0.77 0.21]\n",
            " [1.   0.03 0.81 0.16]\n",
            " [2.   0.   0.25 0.74]\n",
            " [2.   0.   0.04 0.96]\n",
            " [2.   0.   0.19 0.81]\n",
            " [0.   0.97 0.03 0.  ]\n",
            " [2.   0.   0.07 0.92]\n",
            " [2.   0.   0.04 0.96]\n",
            " [2.   0.   0.01 0.99]\n",
            " [2.   0.   0.08 0.92]\n",
            " [0.   0.96 0.04 0.  ]\n",
            " [0.   0.96 0.04 0.  ]\n",
            " [1.   0.08 0.76 0.17]\n",
            " [0.   0.54 0.46 0.  ]\n",
            " [1.   0.04 0.56 0.4 ]\n",
            " [0.   1.   0.   0.  ]\n",
            " [1.   0.01 0.6  0.4 ]\n",
            " [2.   0.03 0.35 0.62]\n",
            " [2.   0.   0.16 0.83]\n",
            " [2.   0.   0.02 0.98]\n",
            " [1.   0.   0.57 0.42]\n",
            " [2.   0.   0.02 0.98]\n",
            " [1.   0.03 0.92 0.05]\n",
            " [1.   0.02 0.64 0.33]\n",
            " [1.   0.04 0.68 0.28]\n",
            " [0.   0.99 0.01 0.  ]\n",
            " [0.   0.98 0.02 0.  ]\n",
            " [1.   0.02 0.66 0.31]\n",
            " [0.   0.94 0.06 0.  ]\n",
            " [2.   0.   0.19 0.8 ]\n",
            " [0.   0.96 0.04 0.  ]\n",
            " [0.   0.95 0.05 0.  ]\n",
            " [2.   0.01 0.39 0.59]\n",
            " [1.   0.12 0.86 0.03]\n",
            " [2.   0.   0.03 0.97]\n",
            " [0.   0.99 0.01 0.  ]\n",
            " [2.   0.   0.1  0.9 ]\n",
            " [0.   0.9  0.1  0.  ]\n",
            " [1.   0.04 0.87 0.09]\n",
            " [2.   0.   0.36 0.63]\n",
            " [0.   0.98 0.02 0.  ]\n",
            " [2.   0.   0.03 0.97]\n",
            " [2.   0.   0.07 0.93]\n",
            " [2.   0.   0.19 0.81]\n",
            " [2.   0.   0.02 0.98]]\n"
          ]
        }
      ]
    },
    {
      "cell_type": "code",
      "source": [
        "sum = 0\n",
        "counter = 0\n",
        "counter1 = 0\n",
        "for x in yhat_probs_test:\n",
        "  ##for z in y_pred_test:\n",
        "    sum += x[y_pred_test[counter1]]\n",
        "    counter += 1\n",
        "    counter1 += 1\n",
        "\n",
        "print(\"average prob: \"+str(sum/counter))"
      ],
      "metadata": {
        "colab": {
          "base_uri": "https://localhost:8080/"
        },
        "id": "wWQi6k-_17zj",
        "outputId": "55fc090f-8f87-4f6d-fc50-fd7c8ad52ccd"
      },
      "execution_count": null,
      "outputs": [
        {
          "output_type": "stream",
          "name": "stdout",
          "text": [
            "average prob: 0.8448627693757357\n"
          ]
        }
      ]
    }
  ]
}