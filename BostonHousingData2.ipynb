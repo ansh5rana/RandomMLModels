{
  "nbformat": 4,
  "nbformat_minor": 0,
  "metadata": {
    "colab": {
      "provenance": [],
      "authorship_tag": "ABX9TyP792WOEdrMk01l7rMTMsQ7"
    },
    "kernelspec": {
      "name": "python3",
      "display_name": "Python 3"
    },
    "language_info": {
      "name": "python"
    }
  },
  "cells": [
    {
      "cell_type": "code",
      "execution_count": null,
      "metadata": {
        "colab": {
          "base_uri": "https://localhost:8080/",
          "height": 122
        },
        "id": "7YnUB1drh7BO",
        "outputId": "a4eec5cd-dc5f-4bb0-a71d-86449476d8e1"
      },
      "outputs": [
        {
          "output_type": "execute_result",
          "data": {
            "text/plain": [
              "\"\\nAttribute Information:\\n    1.  CRIM      per capita crime rate by town\\n    2.  ZN        proportion of residential land zoned for lots over \\n                  25,000 sq.ft.\\n    3.  INDUS     proportion of non-retail business acres per town\\n    4.  CHAS      Charles River dummy variable (= 1 if tract bounds \\n                  river; 0 otherwise)\\n    5.  NOX       nitric oxides concentration (parts per 10 million)\\n    6.  RM        average number of rooms per dwelling\\n    7.  AGE       proportion of owner-occupied units built prior to 1940\\n    8.  DIS       weighted distances to five Boston employment centres\\n    9.  RAD       index of accessibility to radial highways\\n    10. TAX       full-value property-tax rate per $10,000\\n    11. PTRATIO   pupil-teacher ratio by town\\n    12. B         1000(Bk - 0.63)^2 where Bk is the proportion of blocks by town\\n    13. LSTAT     % lower status of the population\\n    14. MEDV      Median value of owner-occupied homes in $1000's\\n\""
            ],
            "application/vnd.google.colaboratory.intrinsic+json": {
              "type": "string"
            }
          },
          "metadata": {},
          "execution_count": 2
        }
      ],
      "source": [
        "import pandas as pd\n",
        "import numpy as np\n",
        "\n",
        "names =['CRIM', 'ZN', 'INDUS', 'CHAS', 'NOX', 'RM', 'AGE',  'DIS', 'RAD', 'TAX', 'PTRATIO', 'B', 'LSTAT', 'PRICE']\n",
        "\n",
        "df = pd.read_csv('https://archive.ics.uci.edu/ml/machine-learning-databases/housing/housing.data',\n",
        "                 header=None, delim_whitespace=True, names=names, na_values='?')\n",
        "\n",
        "\"\"\"\n",
        "Attribute Information:\n",
        "    1.  CRIM      per capita crime rate by town\n",
        "    2.  ZN        proportion of residential land zoned for lots over\n",
        "                  25,000 sq.ft.\n",
        "    3.  INDUS     proportion of non-retail business acres per town\n",
        "    4.  CHAS      Charles River dummy variable (= 1 if tract bounds\n",
        "                  river; 0 otherwise)\n",
        "    5.  NOX       nitric oxides concentration (parts per 10 million)\n",
        "    6.  RM        average number of rooms per dwelling\n",
        "    7.  AGE       proportion of owner-occupied units built prior to 1940\n",
        "    8.  DIS       weighted distances to five Boston employment centres\n",
        "    9.  RAD       index of accessibility to radial highways\n",
        "    10. TAX       full-value property-tax rate per $10,000\n",
        "    11. PTRATIO   pupil-teacher ratio by town\n",
        "    12. B         1000(Bk - 0.63)^2 where Bk is the proportion of blocks by town\n",
        "    13. LSTAT     % lower status of the population\n",
        "    14. MEDV      Median value of owner-occupied homes in $1000's\n",
        "\"\"\""
      ]
    },
    {
      "cell_type": "code",
      "source": [
        "print(df.columns.to_list())\n",
        "features=df.columns.to_list()\n",
        "features.remove('PRICE')\n",
        "print(features)"
      ],
      "metadata": {
        "colab": {
          "base_uri": "https://localhost:8080/"
        },
        "id": "jZ62FnjDp0e1",
        "outputId": "93267329-b1ab-4c8c-dafb-6d91d1da3cc3"
      },
      "execution_count": null,
      "outputs": [
        {
          "output_type": "stream",
          "name": "stdout",
          "text": [
            "['CRIM', 'ZN', 'INDUS', 'CHAS', 'NOX', 'RM', 'AGE', 'DIS', 'RAD', 'TAX', 'PTRATIO', 'B', 'LSTAT', 'PRICE']\n",
            "['CRIM', 'ZN', 'INDUS', 'CHAS', 'NOX', 'RM', 'AGE', 'DIS', 'RAD', 'TAX', 'PTRATIO', 'B', 'LSTAT']\n"
          ]
        }
      ]
    },
    {
      "cell_type": "code",
      "source": [
        "print(df)"
      ],
      "metadata": {
        "colab": {
          "base_uri": "https://localhost:8080/"
        },
        "id": "TS7zaYfyqAJI",
        "outputId": "1a2ef701-d5f9-4ad2-fedb-fd64379195fa"
      },
      "execution_count": null,
      "outputs": [
        {
          "output_type": "stream",
          "name": "stdout",
          "text": [
            "        CRIM    ZN  INDUS  CHAS    NOX     RM   AGE     DIS  RAD    TAX  \\\n",
            "0    0.00632  18.0   2.31     0  0.538  6.575  65.2  4.0900    1  296.0   \n",
            "1    0.02731   0.0   7.07     0  0.469  6.421  78.9  4.9671    2  242.0   \n",
            "2    0.02729   0.0   7.07     0  0.469  7.185  61.1  4.9671    2  242.0   \n",
            "3    0.03237   0.0   2.18     0  0.458  6.998  45.8  6.0622    3  222.0   \n",
            "4    0.06905   0.0   2.18     0  0.458  7.147  54.2  6.0622    3  222.0   \n",
            "..       ...   ...    ...   ...    ...    ...   ...     ...  ...    ...   \n",
            "501  0.06263   0.0  11.93     0  0.573  6.593  69.1  2.4786    1  273.0   \n",
            "502  0.04527   0.0  11.93     0  0.573  6.120  76.7  2.2875    1  273.0   \n",
            "503  0.06076   0.0  11.93     0  0.573  6.976  91.0  2.1675    1  273.0   \n",
            "504  0.10959   0.0  11.93     0  0.573  6.794  89.3  2.3889    1  273.0   \n",
            "505  0.04741   0.0  11.93     0  0.573  6.030  80.8  2.5050    1  273.0   \n",
            "\n",
            "     PTRATIO       B  LSTAT  PRICE  \n",
            "0       15.3  396.90   4.98   24.0  \n",
            "1       17.8  396.90   9.14   21.6  \n",
            "2       17.8  392.83   4.03   34.7  \n",
            "3       18.7  394.63   2.94   33.4  \n",
            "4       18.7  396.90   5.33   36.2  \n",
            "..       ...     ...    ...    ...  \n",
            "501     21.0  391.99   9.67   22.4  \n",
            "502     21.0  396.90   9.08   20.6  \n",
            "503     21.0  396.90   5.64   23.9  \n",
            "504     21.0  393.45   6.48   22.0  \n",
            "505     21.0  396.90   7.88   11.9  \n",
            "\n",
            "[506 rows x 14 columns]\n"
          ]
        }
      ]
    },
    {
      "cell_type": "code",
      "source": [
        "X = df[features].values\n",
        "print(X)\n",
        "print(X.shape)\n",
        "print(f\"The dataset contains {X.shape[0]} data points with {X.shape[1]} features\")\n",
        "print()\n",
        "y = df['PRICE'].values\n",
        "print(y.shape)\n",
        "y = y.reshape(-1,1)\n",
        "print(y.shape)"
      ],
      "metadata": {
        "colab": {
          "base_uri": "https://localhost:8080/"
        },
        "id": "po6hCS3YqC7y",
        "outputId": "79208f9f-125b-4db2-ebe8-72d39ae69be9"
      },
      "execution_count": null,
      "outputs": [
        {
          "output_type": "stream",
          "name": "stdout",
          "text": [
            "[[6.3200e-03 1.8000e+01 2.3100e+00 ... 1.5300e+01 3.9690e+02 4.9800e+00]\n",
            " [2.7310e-02 0.0000e+00 7.0700e+00 ... 1.7800e+01 3.9690e+02 9.1400e+00]\n",
            " [2.7290e-02 0.0000e+00 7.0700e+00 ... 1.7800e+01 3.9283e+02 4.0300e+00]\n",
            " ...\n",
            " [6.0760e-02 0.0000e+00 1.1930e+01 ... 2.1000e+01 3.9690e+02 5.6400e+00]\n",
            " [1.0959e-01 0.0000e+00 1.1930e+01 ... 2.1000e+01 3.9345e+02 6.4800e+00]\n",
            " [4.7410e-02 0.0000e+00 1.1930e+01 ... 2.1000e+01 3.9690e+02 7.8800e+00]]\n",
            "(506, 13)\n",
            "The dataset contains 506 data points with 13 features\n",
            "\n",
            "(506,)\n",
            "(506, 1)\n"
          ]
        }
      ]
    },
    {
      "cell_type": "code",
      "source": [
        "ones_v = np.ones((X.shape[0],1))\n",
        "Xprime = np.hstack([ones_v, X])\n",
        "\n",
        "w = np.matmul(np.linalg.inv(np.matmul(np.transpose(Xprime), Xprime)), np.transpose(Xprime)).dot(y)\n",
        "print(w)\n",
        "\n",
        "print(w.shape)\n",
        "y_hat = Xprime.dot(w)\n",
        "print(y_hat.shape)"
      ],
      "metadata": {
        "colab": {
          "base_uri": "https://localhost:8080/"
        },
        "id": "HLq3o4Zcqbt9",
        "outputId": "504652d7-dc39-4b92-9689-9a669d90062d"
      },
      "execution_count": null,
      "outputs": [
        {
          "output_type": "stream",
          "name": "stdout",
          "text": [
            "[[ 3.64594884e+01]\n",
            " [-1.08011358e-01]\n",
            " [ 4.64204584e-02]\n",
            " [ 2.05586264e-02]\n",
            " [ 2.68673382e+00]\n",
            " [-1.77666112e+01]\n",
            " [ 3.80986521e+00]\n",
            " [ 6.92224640e-04]\n",
            " [-1.47556685e+00]\n",
            " [ 3.06049479e-01]\n",
            " [-1.23345939e-02]\n",
            " [-9.52747232e-01]\n",
            " [ 9.31168327e-03]\n",
            " [-5.24758378e-01]]\n",
            "(14, 1)\n",
            "(506, 1)\n"
          ]
        }
      ]
    },
    {
      "cell_type": "code",
      "source": [
        "mse = np.mean((y-y_hat)**2)\n",
        "mae = np.mean(np.abs(y - y_hat))\n",
        "print(\"multilinear mse: \"+str(mse) + \" less than linear regression mse of 38.48296722989415 using % Lower Status of the Population and 43.60055177116956 using Avg Number of Rooms in a Region\")\n",
        "print(\"multilinear mse: \"+str(mae) + \" less than linear regression mae of 4.505281166250558 using % Lower Status of the Population and 4.447772901532243 using Avg Number of Rooms in a Region\")"
      ],
      "metadata": {
        "colab": {
          "base_uri": "https://localhost:8080/"
        },
        "id": "IQb5kSlbuiiL",
        "outputId": "1883e4ff-4450-4b14-e661-758303a2c8a7"
      },
      "execution_count": null,
      "outputs": [
        {
          "output_type": "stream",
          "name": "stdout",
          "text": [
            "multilinear mse: 21.894831181729202 less than linear regression mse of 38.48296722989415 using % Lower Status of the Population and 43.60055177116956 using Avg Number of Rooms in a Region\n",
            "multilinear mse: 3.270862810899656 less than linear regression mae of 4.505281166250558 using % Lower Status of the Population and 4.447772901532243 using Avg Number of Rooms in a Region\n"
          ]
        }
      ]
    }
  ]
}